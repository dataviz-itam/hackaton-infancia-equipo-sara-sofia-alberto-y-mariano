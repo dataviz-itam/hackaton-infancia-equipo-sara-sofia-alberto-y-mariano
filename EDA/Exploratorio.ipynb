{
  "cells": [
    {
      "cell_type": "markdown",
      "metadata": {
        "id": "FxkXpyiKRpeO"
      },
      "source": [
        "# <font color=#378A87> **Tercer Hackatón por los Derechos de la Niñez y la Adolescencia en México, 2024** <font>"
      ]
    },
    {
      "cell_type": "markdown",
      "metadata": {},
      "source": [
        "# <font color=#378A87> **Infancia cuenta en México** <font>"
      ]
    },
    {
      "cell_type": "markdown",
      "metadata": {
        "id": "ki8aG4QbRwgx"
      },
      "source": [
        "\n",
        "# <font color=#378A87>**0: Carga y limpieza de datos**<font>"
      ]
    },
    {
      "cell_type": "markdown",
      "metadata": {
        "id": "xkyTiaSt0Fiq"
      },
      "source": [
        "<font color=#378A87>**0.1 Carga de librerias**<font>"
      ]
    },
    {
      "cell_type": "code",
      "execution_count": 35,
      "metadata": {
        "colab": {
          "base_uri": "https://localhost:8080/",
          "height": 17
        },
        "id": "A8mKrRexZU93",
        "outputId": "b20f9e41-4cd5-4664-934e-d669314df5dc"
      },
      "outputs": [],
      "source": [
        "import pandas as pd\n",
        "import seaborn as sns\n",
        "import matplotlib.pyplot as plt\n",
        "import funciones as f"
      ]
    },
    {
      "cell_type": "markdown",
      "metadata": {
        "id": "PIdyqGgy0Px2"
      },
      "source": [
        "<font color=#378A87>**0.2 Lectura de datos**<font>"
      ]
    },
    {
      "cell_type": "code",
      "execution_count": 17,
      "metadata": {
        "colab": {
          "base_uri": "https://localhost:8080/"
        },
        "id": "tkF8RCFg22oG",
        "outputId": "d9495e84-8ef3-4d18-8fac-9fd71a680845"
      },
      "outputs": [
        {
          "name": "stderr",
          "output_type": "stream",
          "text": [
            "/tmp/ipykernel_12193/4273436655.py:1: DtypeWarning: Columns (0) have mixed types. Specify dtype option on import or set low_memory=False.\n",
            "  df=pd.read_csv('../data/icm-00-23.csv')\n"
          ]
        }
      ],
      "source": [
        "\n",
        "df=pd.read_csv('../data/icm-00-23.csv')\n",
        "data = df"
      ]
    },
    {
      "cell_type": "code",
      "execution_count": 18,
      "metadata": {
        "colab": {
          "base_uri": "https://localhost:8080/"
        },
        "id": "WWPV6BXi_FeG",
        "outputId": "f546627e-1cd4-49c9-811b-4bcb7930dbbc"
      },
      "outputs": [
        {
          "data": {
            "text/plain": [
              "(70741, 9)"
            ]
          },
          "execution_count": 18,
          "metadata": {},
          "output_type": "execute_result"
        }
      ],
      "source": [
        "df.shape"
      ]
    },
    {
      "cell_type": "code",
      "execution_count": 19,
      "metadata": {
        "colab": {
          "base_uri": "https://localhost:8080/",
          "height": 409
        },
        "id": "6tnEaf324MU7",
        "outputId": "a5dc9a25-96e6-405f-cb78-73f2cc018aeb"
      },
      "outputs": [
        {
          "data": {
            "text/html": [
              "<div>\n",
              "<style scoped>\n",
              "    .dataframe tbody tr th:only-of-type {\n",
              "        vertical-align: middle;\n",
              "    }\n",
              "\n",
              "    .dataframe tbody tr th {\n",
              "        vertical-align: top;\n",
              "    }\n",
              "\n",
              "    .dataframe thead th {\n",
              "        text-align: right;\n",
              "    }\n",
              "</style>\n",
              "<table border=\"1\" class=\"dataframe\">\n",
              "  <thead>\n",
              "    <tr style=\"text-align: right;\">\n",
              "      <th></th>\n",
              "      <th>Año</th>\n",
              "      <th>Entidad</th>\n",
              "      <th>Población</th>\n",
              "      <th>Sexo</th>\n",
              "      <th>Edad</th>\n",
              "      <th>Cantidad</th>\n",
              "      <th>Totales</th>\n",
              "      <th>Porcentaje</th>\n",
              "      <th>Tasa</th>\n",
              "    </tr>\n",
              "  </thead>\n",
              "  <tbody>\n",
              "    <tr>\n",
              "      <th>0</th>\n",
              "      <td>2020</td>\n",
              "      <td>NACIONAL</td>\n",
              "      <td>Población total</td>\n",
              "      <td>Total</td>\n",
              "      <td>0 a 17 años</td>\n",
              "      <td>38247958.0</td>\n",
              "      <td>126014024.0</td>\n",
              "      <td>0.303521</td>\n",
              "      <td>NaN</td>\n",
              "    </tr>\n",
              "    <tr>\n",
              "      <th>1</th>\n",
              "      <td>2020</td>\n",
              "      <td>AGUASCALIENTES</td>\n",
              "      <td>Población total</td>\n",
              "      <td>Total</td>\n",
              "      <td>0 a 17 años</td>\n",
              "      <td>463335.0</td>\n",
              "      <td>1425607.0</td>\n",
              "      <td>0.325009</td>\n",
              "      <td>NaN</td>\n",
              "    </tr>\n",
              "    <tr>\n",
              "      <th>2</th>\n",
              "      <td>2020</td>\n",
              "      <td>BAJA CALIFORNIA</td>\n",
              "      <td>Población total</td>\n",
              "      <td>Total</td>\n",
              "      <td>0 a 17 años</td>\n",
              "      <td>1061893.0</td>\n",
              "      <td>3769020.0</td>\n",
              "      <td>0.281742</td>\n",
              "      <td>NaN</td>\n",
              "    </tr>\n",
              "    <tr>\n",
              "      <th>3</th>\n",
              "      <td>2020</td>\n",
              "      <td>BAJA CALIFORNIA SUR</td>\n",
              "      <td>Población total</td>\n",
              "      <td>Total</td>\n",
              "      <td>0 a 17 años</td>\n",
              "      <td>236629.0</td>\n",
              "      <td>798447.0</td>\n",
              "      <td>0.296362</td>\n",
              "      <td>NaN</td>\n",
              "    </tr>\n",
              "    <tr>\n",
              "      <th>4</th>\n",
              "      <td>2020</td>\n",
              "      <td>CAMPECHE</td>\n",
              "      <td>Población total</td>\n",
              "      <td>Total</td>\n",
              "      <td>0 a 17 años</td>\n",
              "      <td>286880.0</td>\n",
              "      <td>928363.0</td>\n",
              "      <td>0.309017</td>\n",
              "      <td>NaN</td>\n",
              "    </tr>\n",
              "  </tbody>\n",
              "</table>\n",
              "</div>"
            ],
            "text/plain": [
              "    Año              Entidad        Población   Sexo         Edad    Cantidad  \\\n",
              "0  2020             NACIONAL  Población total  Total  0 a 17 años  38247958.0   \n",
              "1  2020       AGUASCALIENTES  Población total  Total  0 a 17 años    463335.0   \n",
              "2  2020      BAJA CALIFORNIA  Población total  Total  0 a 17 años   1061893.0   \n",
              "3  2020  BAJA CALIFORNIA SUR  Población total  Total  0 a 17 años    236629.0   \n",
              "4  2020             CAMPECHE  Población total  Total  0 a 17 años    286880.0   \n",
              "\n",
              "       Totales  Porcentaje  Tasa  \n",
              "0  126014024.0    0.303521   NaN  \n",
              "1    1425607.0    0.325009   NaN  \n",
              "2    3769020.0    0.281742   NaN  \n",
              "3     798447.0    0.296362   NaN  \n",
              "4     928363.0    0.309017   NaN  "
            ]
          },
          "execution_count": 19,
          "metadata": {},
          "output_type": "execute_result"
        }
      ],
      "source": [
        "df.head()"
      ]
    },
    {
      "cell_type": "markdown",
      "metadata": {
        "id": "TDsxncqH4VL-"
      },
      "source": [
        "<font color=#378A87>**0.3 Análisis estadístico**<font>"
      ]
    },
    {
      "cell_type": "code",
      "execution_count": 20,
      "metadata": {
        "colab": {
          "base_uri": "https://localhost:8080/",
          "height": 364
        },
        "id": "RxqmF73W6a9z",
        "outputId": "480b638c-f0af-4c03-b085-12c8fb1a18b0"
      },
      "outputs": [
        {
          "data": {
            "text/html": [
              "<div>\n",
              "<style scoped>\n",
              "    .dataframe tbody tr th:only-of-type {\n",
              "        vertical-align: middle;\n",
              "    }\n",
              "\n",
              "    .dataframe tbody tr th {\n",
              "        vertical-align: top;\n",
              "    }\n",
              "\n",
              "    .dataframe thead th {\n",
              "        text-align: right;\n",
              "    }\n",
              "</style>\n",
              "<table border=\"1\" class=\"dataframe\">\n",
              "  <thead>\n",
              "    <tr style=\"text-align: right;\">\n",
              "      <th></th>\n",
              "      <th>Cantidad</th>\n",
              "      <th>Totales</th>\n",
              "      <th>Porcentaje</th>\n",
              "      <th>Tasa</th>\n",
              "    </tr>\n",
              "  </thead>\n",
              "  <tbody>\n",
              "    <tr>\n",
              "      <th>count</th>\n",
              "      <td>4.187600e+04</td>\n",
              "      <td>3.765300e+04</td>\n",
              "      <td>56109.000000</td>\n",
              "      <td>13101.000000</td>\n",
              "    </tr>\n",
              "    <tr>\n",
              "      <th>mean</th>\n",
              "      <td>1.138808e+05</td>\n",
              "      <td>5.481165e+05</td>\n",
              "      <td>0.212622</td>\n",
              "      <td>7.643562</td>\n",
              "    </tr>\n",
              "    <tr>\n",
              "      <th>std</th>\n",
              "      <td>8.624998e+05</td>\n",
              "      <td>2.717273e+06</td>\n",
              "      <td>0.198696</td>\n",
              "      <td>8.905212</td>\n",
              "    </tr>\n",
              "    <tr>\n",
              "      <th>min</th>\n",
              "      <td>0.000000e+00</td>\n",
              "      <td>0.000000e+00</td>\n",
              "      <td>0.000000</td>\n",
              "      <td>-2.681314</td>\n",
              "    </tr>\n",
              "    <tr>\n",
              "      <th>25%</th>\n",
              "      <td>5.600000e+01</td>\n",
              "      <td>8.099000e+03</td>\n",
              "      <td>0.052815</td>\n",
              "      <td>1.728221</td>\n",
              "    </tr>\n",
              "    <tr>\n",
              "      <th>50%</th>\n",
              "      <td>1.671000e+03</td>\n",
              "      <td>1.093020e+05</td>\n",
              "      <td>0.157571</td>\n",
              "      <td>4.737835</td>\n",
              "    </tr>\n",
              "    <tr>\n",
              "      <th>75%</th>\n",
              "      <td>3.254150e+04</td>\n",
              "      <td>3.377880e+05</td>\n",
              "      <td>0.313910</td>\n",
              "      <td>12.812400</td>\n",
              "    </tr>\n",
              "    <tr>\n",
              "      <th>max</th>\n",
              "      <td>3.922674e+07</td>\n",
              "      <td>1.260140e+08</td>\n",
              "      <td>1.000000</td>\n",
              "      <td>202.298414</td>\n",
              "    </tr>\n",
              "  </tbody>\n",
              "</table>\n",
              "</div>"
            ],
            "text/plain": [
              "           Cantidad       Totales    Porcentaje          Tasa\n",
              "count  4.187600e+04  3.765300e+04  56109.000000  13101.000000\n",
              "mean   1.138808e+05  5.481165e+05      0.212622      7.643562\n",
              "std    8.624998e+05  2.717273e+06      0.198696      8.905212\n",
              "min    0.000000e+00  0.000000e+00      0.000000     -2.681314\n",
              "25%    5.600000e+01  8.099000e+03      0.052815      1.728221\n",
              "50%    1.671000e+03  1.093020e+05      0.157571      4.737835\n",
              "75%    3.254150e+04  3.377880e+05      0.313910     12.812400\n",
              "max    3.922674e+07  1.260140e+08      1.000000    202.298414"
            ]
          },
          "execution_count": 20,
          "metadata": {},
          "output_type": "execute_result"
        }
      ],
      "source": [
        "df.describe()"
      ]
    },
    {
      "cell_type": "code",
      "execution_count": 21,
      "metadata": {
        "colab": {
          "base_uri": "https://localhost:8080/"
        },
        "id": "mS5Wmpj-SPuI",
        "outputId": "e9d4fd36-6808-42a8-f480-b61682e716f6"
      },
      "outputs": [
        {
          "name": "stdout",
          "output_type": "stream",
          "text": [
            "<class 'pandas.core.frame.DataFrame'>\n",
            "RangeIndex: 70741 entries, 0 to 70740\n",
            "Data columns (total 9 columns):\n",
            " #   Column      Non-Null Count  Dtype  \n",
            "---  ------      --------------  -----  \n",
            " 0   Año         70741 non-null  object \n",
            " 1   Entidad     70741 non-null  object \n",
            " 2   Población   70741 non-null  object \n",
            " 3   Sexo        70741 non-null  object \n",
            " 4   Edad        67045 non-null  object \n",
            " 5   Cantidad    41876 non-null  float64\n",
            " 6   Totales     37653 non-null  float64\n",
            " 7   Porcentaje  56109 non-null  float64\n",
            " 8   Tasa        13101 non-null  float64\n",
            "dtypes: float64(4), object(5)\n",
            "memory usage: 4.9+ MB\n"
          ]
        }
      ],
      "source": [
        "df.info()"
      ]
    },
    {
      "cell_type": "markdown",
      "metadata": {
        "id": "VLFYFDsx9o5G"
      },
      "source": [
        "<font color=#378A87>**0.4 Duplicados**<font>"
      ]
    },
    {
      "cell_type": "code",
      "execution_count": 22,
      "metadata": {
        "colab": {
          "base_uri": "https://localhost:8080/"
        },
        "id": "lhRUp2j19mBD",
        "outputId": "8526e04b-449b-4ca7-b579-f8984e699f5e"
      },
      "outputs": [
        {
          "data": {
            "text/plain": [
              "0"
            ]
          },
          "execution_count": 22,
          "metadata": {},
          "output_type": "execute_result"
        }
      ],
      "source": [
        "#Numero de duplicados generales\n",
        "df.duplicated().sum()"
      ]
    },
    {
      "cell_type": "markdown",
      "metadata": {
        "id": "vuv1J8b1961_"
      },
      "source": [
        "*No existen duplicados generales*"
      ]
    },
    {
      "cell_type": "code",
      "execution_count": 24,
      "metadata": {
        "colab": {
          "base_uri": "https://localhost:8080/"
        },
        "id": "ct21b3f2-RGQ",
        "outputId": "5141efdb-6f0e-485b-b2ff-4397b06694eb"
      },
      "outputs": [
        {
          "data": {
            "text/plain": [
              "(69697, 9)"
            ]
          },
          "execution_count": 24,
          "metadata": {},
          "output_type": "execute_result"
        }
      ],
      "source": [
        "#calculamos duplicados mediante pk(date,tournament,home_team,away_team) ignorando NaN\n",
        "df[(df.duplicated(subset=['Año','Entidad']))].shape"
      ]
    },
    {
      "cell_type": "markdown",
      "metadata": {
        "id": "DslGpMqe_YDE"
      },
      "source": [
        "*No existen duplicados por llave pk*"
      ]
    },
    {
      "cell_type": "markdown",
      "metadata": {
        "id": "99kKoJpM_c7U"
      },
      "source": [
        "<font color=#378A87>**0.5 Nulos**<font>"
      ]
    },
    {
      "cell_type": "code",
      "execution_count": 25,
      "metadata": {
        "colab": {
          "base_uri": "https://localhost:8080/",
          "height": 399
        },
        "id": "a-SVxesHZDcS",
        "outputId": "11a09ae8-dd8c-4a7b-b6bd-26b73895f165"
      },
      "outputs": [
        {
          "data": {
            "image/png": "[encoded data removed]",
            "text/plain": [
              "<Figure size 432x288 with 1 Axes>"
            ]
          },
          "metadata": {
            "needs_background": "light"
          },
          "output_type": "display_data"
        }
      ],
      "source": [
        "# verificación de nulos\n",
        "sns.heatmap(df.isnull(), yticklabels=False, cbar=False)\n",
        "plt.show()"
      ]
    },
    {
      "cell_type": "code",
      "execution_count": 36,
      "metadata": {
        "colab": {
          "base_uri": "https://localhost:8080/",
          "height": 614
        },
        "id": "8nkdArMbSRsO",
        "outputId": "45b0f4bd-a3f3-4610-e7e4-e3f8ab1f17e2"
      },
      "outputs": [
        {
          "data": {
            "text/html": [
              "<div>\n",
              "<style scoped>\n",
              "    .dataframe tbody tr th:only-of-type {\n",
              "        vertical-align: middle;\n",
              "    }\n",
              "\n",
              "    .dataframe tbody tr th {\n",
              "        vertical-align: top;\n",
              "    }\n",
              "\n",
              "    .dataframe thead th {\n",
              "        text-align: right;\n",
              "    }\n",
              "</style>\n",
              "<table border=\"1\" class=\"dataframe\">\n",
              "  <thead>\n",
              "    <tr style=\"text-align: right;\">\n",
              "      <th></th>\n",
              "      <th>columna</th>\n",
              "      <th>total</th>\n",
              "      <th>completitud</th>\n",
              "    </tr>\n",
              "  </thead>\n",
              "  <tbody>\n",
              "    <tr>\n",
              "      <th>0</th>\n",
              "      <td>Tasa</td>\n",
              "      <td>57640</td>\n",
              "      <td>18.519670</td>\n",
              "    </tr>\n",
              "    <tr>\n",
              "      <th>1</th>\n",
              "      <td>Totales</td>\n",
              "      <td>33088</td>\n",
              "      <td>53.226559</td>\n",
              "    </tr>\n",
              "    <tr>\n",
              "      <th>2</th>\n",
              "      <td>Cantidad</td>\n",
              "      <td>28865</td>\n",
              "      <td>59.196223</td>\n",
              "    </tr>\n",
              "    <tr>\n",
              "      <th>3</th>\n",
              "      <td>Porcentaje</td>\n",
              "      <td>14632</td>\n",
              "      <td>79.316097</td>\n",
              "    </tr>\n",
              "    <tr>\n",
              "      <th>4</th>\n",
              "      <td>Edad</td>\n",
              "      <td>3696</td>\n",
              "      <td>94.775307</td>\n",
              "    </tr>\n",
              "    <tr>\n",
              "      <th>5</th>\n",
              "      <td>Año</td>\n",
              "      <td>0</td>\n",
              "      <td>100.000000</td>\n",
              "    </tr>\n",
              "    <tr>\n",
              "      <th>6</th>\n",
              "      <td>Entidad</td>\n",
              "      <td>0</td>\n",
              "      <td>100.000000</td>\n",
              "    </tr>\n",
              "    <tr>\n",
              "      <th>7</th>\n",
              "      <td>Población</td>\n",
              "      <td>0</td>\n",
              "      <td>100.000000</td>\n",
              "    </tr>\n",
              "    <tr>\n",
              "      <th>8</th>\n",
              "      <td>Sexo</td>\n",
              "      <td>0</td>\n",
              "      <td>100.000000</td>\n",
              "    </tr>\n",
              "  </tbody>\n",
              "</table>\n",
              "</div>"
            ],
            "text/plain": [
              "      columna  total  completitud\n",
              "0        Tasa  57640    18.519670\n",
              "1     Totales  33088    53.226559\n",
              "2    Cantidad  28865    59.196223\n",
              "3  Porcentaje  14632    79.316097\n",
              "4        Edad   3696    94.775307\n",
              "5         Año      0   100.000000\n",
              "6     Entidad      0   100.000000\n",
              "7   Población      0   100.000000\n",
              "8        Sexo      0   100.000000"
            ]
          },
          "execution_count": 36,
          "metadata": {},
          "output_type": "execute_result"
        }
      ],
      "source": [
        "f.completitud(df)"
      ]
    },
    {
      "cell_type": "markdown",
      "metadata": {
        "id": "S_mXSM9OACL6"
      },
      "source": [
        "# <font color=#378A87>**1 Análisis Exploratorio**<font>\n",
        "\n"
      ]
    },
    {
      "cell_type": "code",
      "execution_count": 53,
      "metadata": {
        "colab": {
          "base_uri": "https://localhost:8080/",
          "height": 280
        },
        "id": "NqtXN9cxBrBW",
        "outputId": "3541baad-3cce-426d-f18e-0c815b764227"
      },
      "outputs": [
        {
          "data": {
            "image/png": "[encoded data removed]",
            "text/plain": [
              "<Figure size 640x480 with 1 Axes>"
            ]
          },
          "metadata": {},
          "output_type": "display_data"
        }
      ],
      "source": [
        "sns.countplot(x='Sexo', data=df)\n",
        "plt.xticks(rotation=90)\n",
        "plt.show()"
      ]
    },
    {
      "cell_type": "code",
      "execution_count": 52,
      "metadata": {},
      "outputs": [
        {
          "data": {
            "image/png": "[encoded data removed]",
            "text/plain": [
              "<Figure size 640x480 with 1 Axes>"
            ]
          },
          "metadata": {},
          "output_type": "display_data"
        }
      ],
      "source": [
        "sns.countplot(x='Edad', data=df)\n",
        "plt.xticks(rotation=90)\n",
        "plt.show()"
      ]
    },
    {
      "cell_type": "code",
      "execution_count": 47,
      "metadata": {
        "colab": {
          "base_uri": "https://localhost:8080/",
          "height": 1000
        },
        "id": "4fraRGY6Z6bZ",
        "outputId": "a7ae1941-1b03-4d60-a9fc-437c92a7b99f"
      },
      "outputs": [
        {
          "name": "stderr",
          "output_type": "stream",
          "text": [
            "/tmp/ipykernel_12193/2369162231.py:3: FutureWarning:\n",
            "\n",
            "The default value of numeric_only in DataFrame.corr is deprecated. In a future version, it will default to False. Select only valid columns or specify the value of numeric_only to silence this warning.\n",
            "\n"
          ]
        },
        {
          "data": {
            "image/png": "[encoded data removed]",
            "text/plain": [
              "<Figure size 640x480 with 2 Axes>"
            ]
          },
          "metadata": {},
          "output_type": "display_data"
        },
        {
          "name": "stdout",
          "output_type": "stream",
          "text": [
            "            Cantidad   Totales  Porcentaje      Tasa\n",
            "Cantidad    1.000000  0.717303    0.147634  0.104534\n",
            "Totales     0.717303  1.000000    0.028077 -0.048474\n",
            "Porcentaje  0.147634  0.028077    1.000000       NaN\n",
            "Tasa        0.104534 -0.048474         NaN  1.000000\n"
          ]
        }
      ],
      "source": [
        "# Correlaciones\n",
        "sns.color_palette(\"light:b\", as_cmap=True)\n",
        "corrmat = df.corr()\n",
        "\n",
        "sns.heatmap(corrmat, center=0, cmap='gray_r', square=True, linewidths=.5, cbar_kws={\"shrink\": .5})\n",
        "plt.show()\n",
        "\n",
        "print(corrmat)"
      ]
    },
    {
      "cell_type": "code",
      "execution_count": 48,
      "metadata": {
        "colab": {
          "base_uri": "https://localhost:8080/"
        },
        "id": "tm1iB2TgdgXp",
        "outputId": "11121666-05e9-4572-e8db-c64ec5bc998c"
      },
      "outputs": [
        {
          "data": {
            "text/plain": [
              "NACIONAL               2331\n",
              "YUCATÁN                2183\n",
              "CHIAPAS                2177\n",
              "SAN LUIS POTOSÍ        2135\n",
              "NUEVO LEÓN             2135\n",
              "OAXACA                 2135\n",
              "PUEBLA                 2135\n",
              "QUERÉTARO              2135\n",
              "QUINTANA ROO           2135\n",
              "SONORA                 2135\n",
              "SINALOA                2135\n",
              "MORELOS                2135\n",
              "TABASCO                2135\n",
              "TAMAULIPAS             2135\n",
              "TLAXCALA               2135\n",
              "VERACRUZ               2135\n",
              "NAYARIT                2135\n",
              "MICHOACÁN              2135\n",
              "AGUASCALIENTES         2135\n",
              "MÉXICO                 2135\n",
              "JALISCO                2135\n",
              "HIDALGO                2135\n",
              "GUERRERO               2135\n",
              "GUANAJUATO             2135\n",
              "DURANGO                2135\n",
              "CIUDAD DE MÉXICO       2135\n",
              "CHIHUAHUA              2135\n",
              "COLIMA                 2135\n",
              "COAHUILA               2135\n",
              "CAMPECHE               2135\n",
              "BAJA CALIFORNIA SUR    2135\n",
              "BAJA CALIFORNIA        2135\n",
              "ZACATECAS              2135\n",
              "Name: Entidad, dtype: int64"
            ]
          },
          "execution_count": 48,
          "metadata": {},
          "output_type": "execute_result"
        }
      ],
      "source": [
        "# Número de Entidades\n",
        "df.Entidad.value_counts()"
      ]
    },
    {
      "cell_type": "code",
      "execution_count": 58,
      "metadata": {
        "colab": {
          "base_uri": "https://localhost:8080/"
        },
        "id": "FjuyhAdhiM-s",
        "outputId": "7d05c0d0-fa9a-44d0-e903-3247e08df49e"
      },
      "outputs": [
        {
          "data": {
            "text/plain": [
              "0 a 17 años                         12852\n",
              "15 a 17 años                         9372\n",
              "12 a 17 años                         6006\n",
              "6 a 11 años                          5742\n",
              "10 a 14 años                         3564\n",
              "0 a 1 años                           3465\n",
              "2 a 5 años                           3465\n",
              "3 a 17 años                          3439\n",
              "5 a 9 años                           3366\n",
              "0 años                               2475\n",
              "10 a 17 años                         2475\n",
              "12 a 14 años                         2442\n",
              "0 a 4 años                           2376\n",
              "3 a 5 años                           1980\n",
              "5 a 17 años                          1881\n",
              "3 a 4 años                           1287\n",
              "Viviendas particulares habitadas      561\n",
              "5 años                                297\n",
              "Name: Edad, dtype: int64"
            ]
          },
          "execution_count": 58,
          "metadata": {},
          "output_type": "execute_result"
        }
      ],
      "source": [
        "df.Edad.value_counts()"
      ]
    },
    {
      "cell_type": "markdown",
      "metadata": {
        "id": "GMYwxvX7UUiT"
      },
      "source": [
        "******"
      ]
    },
    {
      "cell_type": "markdown",
      "metadata": {
        "id": "UjqN2NmgULBU"
      },
      "source": [
        "## <font color=#378A87>**1.1 Outliers**<font>\n"
      ]
    },
    {
      "cell_type": "code",
      "execution_count": 75,
      "metadata": {
        "colab": {
          "base_uri": "https://localhost:8080/",
          "height": 735
        },
        "id": "Hed4gA8GUCsQ",
        "outputId": "bfcc34ed-0009-4476-f36b-70328aaca893"
      },
      "outputs": [
        {
          "data": {
            "text/html": [
              "<div>\n",
              "<style scoped>\n",
              "    .dataframe tbody tr th:only-of-type {\n",
              "        vertical-align: middle;\n",
              "    }\n",
              "\n",
              "    .dataframe tbody tr th {\n",
              "        vertical-align: top;\n",
              "    }\n",
              "\n",
              "    .dataframe thead th {\n",
              "        text-align: right;\n",
              "    }\n",
              "</style>\n",
              "<table border=\"1\" class=\"dataframe\">\n",
              "  <thead>\n",
              "    <tr style=\"text-align: right;\">\n",
              "      <th></th>\n",
              "      <th>features</th>\n",
              "      <th>n_outliers_IQR</th>\n",
              "      <th>n_outliers_Percentil</th>\n",
              "      <th>n_outliers_Z_Score</th>\n",
              "      <th>n_outliers_IQR_%</th>\n",
              "      <th>n_outliers_Percentil_%</th>\n",
              "      <th>n_outliers_Z_Score_%</th>\n",
              "      <th>total_outliers</th>\n",
              "      <th>%_outliers</th>\n",
              "      <th>indices</th>\n",
              "    </tr>\n",
              "  </thead>\n",
              "  <tbody>\n",
              "    <tr>\n",
              "      <th>0</th>\n",
              "      <td>Cantidad</td>\n",
              "      <td>6731</td>\n",
              "      <td>4111</td>\n",
              "      <td>274</td>\n",
              "      <td>9.51</td>\n",
              "      <td>5.81</td>\n",
              "      <td>0.39</td>\n",
              "      <td>2094</td>\n",
              "      <td>2.96</td>\n",
              "      <td>[0, 1, 2, 5, 7, 8, 9, 10, 11, 12, 13, 14, 15, ...</td>\n",
              "    </tr>\n",
              "    <tr>\n",
              "      <th>1</th>\n",
              "      <td>Totales</td>\n",
              "      <td>3970</td>\n",
              "      <td>3761</td>\n",
              "      <td>402</td>\n",
              "      <td>5.61</td>\n",
              "      <td>5.32</td>\n",
              "      <td>0.57</td>\n",
              "      <td>1878</td>\n",
              "      <td>2.65</td>\n",
              "      <td>[0, 2, 5, 7, 8, 9, 10, 11, 12, 13, 14, 15, 16,...</td>\n",
              "    </tr>\n",
              "    <tr>\n",
              "      <th>2</th>\n",
              "      <td>Porcentaje</td>\n",
              "      <td>1455</td>\n",
              "      <td>5612</td>\n",
              "      <td>718</td>\n",
              "      <td>2.06</td>\n",
              "      <td>7.93</td>\n",
              "      <td>1.01</td>\n",
              "      <td>177</td>\n",
              "      <td>0.25</td>\n",
              "      <td>[34304, 70658, 70659, 70665, 70668, 34319, 455...</td>\n",
              "    </tr>\n",
              "    <tr>\n",
              "      <th>3</th>\n",
              "      <td>Tasa</td>\n",
              "      <td>177</td>\n",
              "      <td>1310</td>\n",
              "      <td>146</td>\n",
              "      <td>0.25</td>\n",
              "      <td>1.85</td>\n",
              "      <td>0.21</td>\n",
              "      <td>1455</td>\n",
              "      <td>2.06</td>\n",
              "      <td>[51129, 59271, 59276, 59280, 11481, 8819, 8824...</td>\n",
              "    </tr>\n",
              "  </tbody>\n",
              "</table>\n",
              "</div>"
            ],
            "text/plain": [
              "     features  n_outliers_IQR  n_outliers_Percentil  n_outliers_Z_Score  \\\n",
              "0    Cantidad            6731                  4111                 274   \n",
              "1     Totales            3970                  3761                 402   \n",
              "2  Porcentaje            1455                  5612                 718   \n",
              "3        Tasa             177                  1310                 146   \n",
              "\n",
              "   n_outliers_IQR_%  n_outliers_Percentil_%  n_outliers_Z_Score_%  \\\n",
              "0              9.51                    5.81                  0.39   \n",
              "1              5.61                    5.32                  0.57   \n",
              "2              2.06                    7.93                  1.01   \n",
              "3              0.25                    1.85                  0.21   \n",
              "\n",
              "   total_outliers  %_outliers  \\\n",
              "0            2094        2.96   \n",
              "1            1878        2.65   \n",
              "2             177        0.25   \n",
              "3            1455        2.06   \n",
              "\n",
              "                                             indices  \n",
              "0  [0, 1, 2, 5, 7, 8, 9, 10, 11, 12, 13, 14, 15, ...  \n",
              "1  [0, 2, 5, 7, 8, 9, 10, 11, 12, 13, 14, 15, 16,...  \n",
              "2  [34304, 70658, 70659, 70665, 70668, 34319, 455...  \n",
              "3  [51129, 59271, 59276, 59280, 11481, 8819, 8824...  "
            ]
          },
          "execution_count": 75,
          "metadata": {},
          "output_type": "execute_result"
        }
      ],
      "source": [
        "#Bucando outliers\n",
        "feats=list((df[[\"Cantidad\",\"Totales\",\"Porcentaje\",\"Tasa\"]]).columns)\n",
        "outliers=f.search_outliers(df,feats)\n",
        "outliers"
      ]
    },
    {
      "cell_type": "markdown",
      "metadata": {
        "id": "_1MKTuLSZdUw"
      },
      "source": [
        "# <font color=#378A87>**2. Transformación de variables**<font>"
      ]
    },
    {
      "cell_type": "code",
      "execution_count": null,
      "metadata": {
        "id": "oFfKW8UxafMX"
      },
      "outputs": [],
      "source": []
    },
    {
      "cell_type": "code",
      "execution_count": 82,
      "metadata": {
        "colab": {
          "base_uri": "https://localhost:8080/",
          "height": 679
        },
        "id": "hfHBIu8YAroe",
        "outputId": "ab4ba8a4-ef57-46d1-a729-138088df556c"
      },
      "outputs": [
        {
          "data": {
            "text/html": [
              "<div>\n",
              "<style scoped>\n",
              "    .dataframe tbody tr th:only-of-type {\n",
              "        vertical-align: middle;\n",
              "    }\n",
              "\n",
              "    .dataframe tbody tr th {\n",
              "        vertical-align: top;\n",
              "    }\n",
              "\n",
              "    .dataframe thead th {\n",
              "        text-align: right;\n",
              "    }\n",
              "</style>\n",
              "<table border=\"1\" class=\"dataframe\">\n",
              "  <thead>\n",
              "    <tr style=\"text-align: right;\">\n",
              "      <th></th>\n",
              "      <th>Año</th>\n",
              "      <th>Entidad</th>\n",
              "      <th>Población</th>\n",
              "      <th>Sexo</th>\n",
              "      <th>Edad</th>\n",
              "      <th>Cantidad</th>\n",
              "      <th>Totales</th>\n",
              "      <th>Porcentaje</th>\n",
              "      <th>Tasa</th>\n",
              "    </tr>\n",
              "  </thead>\n",
              "  <tbody>\n",
              "    <tr>\n",
              "      <th>0</th>\n",
              "      <td>2020</td>\n",
              "      <td>0</td>\n",
              "      <td>0</td>\n",
              "      <td>0</td>\n",
              "      <td>0</td>\n",
              "      <td>38247958.0</td>\n",
              "      <td>126014024.0</td>\n",
              "      <td>0.303521</td>\n",
              "      <td>NaN</td>\n",
              "    </tr>\n",
              "    <tr>\n",
              "      <th>1</th>\n",
              "      <td>2020</td>\n",
              "      <td>1</td>\n",
              "      <td>0</td>\n",
              "      <td>0</td>\n",
              "      <td>0</td>\n",
              "      <td>463335.0</td>\n",
              "      <td>1425607.0</td>\n",
              "      <td>0.325009</td>\n",
              "      <td>NaN</td>\n",
              "    </tr>\n",
              "    <tr>\n",
              "      <th>2</th>\n",
              "      <td>2020</td>\n",
              "      <td>2</td>\n",
              "      <td>0</td>\n",
              "      <td>0</td>\n",
              "      <td>0</td>\n",
              "      <td>1061893.0</td>\n",
              "      <td>3769020.0</td>\n",
              "      <td>0.281742</td>\n",
              "      <td>NaN</td>\n",
              "    </tr>\n",
              "    <tr>\n",
              "      <th>3</th>\n",
              "      <td>2020</td>\n",
              "      <td>3</td>\n",
              "      <td>0</td>\n",
              "      <td>0</td>\n",
              "      <td>0</td>\n",
              "      <td>236629.0</td>\n",
              "      <td>798447.0</td>\n",
              "      <td>0.296362</td>\n",
              "      <td>NaN</td>\n",
              "    </tr>\n",
              "    <tr>\n",
              "      <th>4</th>\n",
              "      <td>2020</td>\n",
              "      <td>4</td>\n",
              "      <td>0</td>\n",
              "      <td>0</td>\n",
              "      <td>0</td>\n",
              "      <td>286880.0</td>\n",
              "      <td>928363.0</td>\n",
              "      <td>0.309017</td>\n",
              "      <td>NaN</td>\n",
              "    </tr>\n",
              "    <tr>\n",
              "      <th>...</th>\n",
              "      <td>...</td>\n",
              "      <td>...</td>\n",
              "      <td>...</td>\n",
              "      <td>...</td>\n",
              "      <td>...</td>\n",
              "      <td>...</td>\n",
              "      <td>...</td>\n",
              "      <td>...</td>\n",
              "      <td>...</td>\n",
              "    </tr>\n",
              "    <tr>\n",
              "      <th>70736</th>\n",
              "      <td>2022</td>\n",
              "      <td>28</td>\n",
              "      <td>30</td>\n",
              "      <td>0</td>\n",
              "      <td>4</td>\n",
              "      <td>7.0</td>\n",
              "      <td>188005.0</td>\n",
              "      <td>NaN</td>\n",
              "      <td>3.723305</td>\n",
              "    </tr>\n",
              "    <tr>\n",
              "      <th>70737</th>\n",
              "      <td>2022</td>\n",
              "      <td>29</td>\n",
              "      <td>30</td>\n",
              "      <td>0</td>\n",
              "      <td>4</td>\n",
              "      <td>6.0</td>\n",
              "      <td>76163.0</td>\n",
              "      <td>NaN</td>\n",
              "      <td>7.877841</td>\n",
              "    </tr>\n",
              "    <tr>\n",
              "      <th>70738</th>\n",
              "      <td>2022</td>\n",
              "      <td>30</td>\n",
              "      <td>30</td>\n",
              "      <td>0</td>\n",
              "      <td>4</td>\n",
              "      <td>19.0</td>\n",
              "      <td>418874.0</td>\n",
              "      <td>NaN</td>\n",
              "      <td>4.535970</td>\n",
              "    </tr>\n",
              "    <tr>\n",
              "      <th>70739</th>\n",
              "      <td>2022</td>\n",
              "      <td>31</td>\n",
              "      <td>30</td>\n",
              "      <td>0</td>\n",
              "      <td>4</td>\n",
              "      <td>1.0</td>\n",
              "      <td>120995.0</td>\n",
              "      <td>NaN</td>\n",
              "      <td>0.826480</td>\n",
              "    </tr>\n",
              "    <tr>\n",
              "      <th>70740</th>\n",
              "      <td>2022</td>\n",
              "      <td>32</td>\n",
              "      <td>30</td>\n",
              "      <td>0</td>\n",
              "      <td>4</td>\n",
              "      <td>93.0</td>\n",
              "      <td>91041.0</td>\n",
              "      <td>NaN</td>\n",
              "      <td>102.151778</td>\n",
              "    </tr>\n",
              "  </tbody>\n",
              "</table>\n",
              "<p>70741 rows × 9 columns</p>\n",
              "</div>"
            ],
            "text/plain": [
              "        Año  Entidad  Población  Sexo  Edad    Cantidad      Totales  \\\n",
              "0      2020        0          0     0     0  38247958.0  126014024.0   \n",
              "1      2020        1          0     0     0    463335.0    1425607.0   \n",
              "2      2020        2          0     0     0   1061893.0    3769020.0   \n",
              "3      2020        3          0     0     0    236629.0     798447.0   \n",
              "4      2020        4          0     0     0    286880.0     928363.0   \n",
              "...     ...      ...        ...   ...   ...         ...          ...   \n",
              "70736  2022       28         30     0     4         7.0     188005.0   \n",
              "70737  2022       29         30     0     4         6.0      76163.0   \n",
              "70738  2022       30         30     0     4        19.0     418874.0   \n",
              "70739  2022       31         30     0     4         1.0     120995.0   \n",
              "70740  2022       32         30     0     4        93.0      91041.0   \n",
              "\n",
              "       Porcentaje        Tasa  \n",
              "0        0.303521         NaN  \n",
              "1        0.325009         NaN  \n",
              "2        0.281742         NaN  \n",
              "3        0.296362         NaN  \n",
              "4        0.309017         NaN  \n",
              "...           ...         ...  \n",
              "70736         NaN    3.723305  \n",
              "70737         NaN    7.877841  \n",
              "70738         NaN    4.535970  \n",
              "70739         NaN    0.826480  \n",
              "70740         NaN  102.151778  \n",
              "\n",
              "[70741 rows x 9 columns]"
            ]
          },
          "execution_count": 82,
          "metadata": {},
          "output_type": "execute_result"
        }
      ],
      "source": [
        "#Get dictionaries from categorical values\n",
        "\n",
        "dictEntidad = dict(enumerate(df.Entidad.unique()))\n",
        "dictEntidad = {y: x for x, y in dictEntidad.items()}\n",
        "\n",
        "dictPoblacion = dict(enumerate(df.Población.unique()))\n",
        "dictPoblacion = {y: x for x, y in dictPoblacion.items()}\n",
        "\n",
        "dictSexo = dict(enumerate(df.Sexo.unique()))\n",
        "dictSexo = {y: x for x, y in dictSexo.items()}\n",
        "\n",
        "dictEdad = dict(enumerate(df.Edad.unique()))\n",
        "dictEdad = {y: x for x, y in dictEdad.items()}\n",
        "\n",
        "df_num = df\n",
        "df_num = df_num.replace({\"Entidad\" : dictEntidad})\n",
        "df_num = df_num.replace({\"Población\" : dictPoblacion})\n",
        "df_num = df_num.replace({\"Sexo\" : dictSexo})\n",
        "df_num = df_num.replace({\"Edad\" : dictEdad})\n",
        "df_num"
      ]
    }
  ],
  "metadata": {
    "colab": {
      "provenance": []
    },
    "kernelspec": {
      "display_name": "Python 3",
      "name": "python3"
    },
    "language_info": {
      "codemirror_mode": {
        "name": "ipython",
        "version": 3
      },
      "file_extension": ".py",
      "mimetype": "text/x-python",
      "name": "python",
      "nbconvert_exporter": "python",
      "pygments_lexer": "ipython3",
      "version": "3.10.12"
    }
  },
  "nbformat": 4,
  "nbformat_minor": 0
}
