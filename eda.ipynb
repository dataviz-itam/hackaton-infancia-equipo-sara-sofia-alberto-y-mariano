{
 "cells": [
  {
   "cell_type": "markdown",
   "metadata": {},
   "source": [
    "# EDA "
   ]
  },
  {
   "cell_type": "code",
   "execution_count": 2,
   "metadata": {},
   "outputs": [],
   "source": [
    "import pandas as pd\n",
    "import numpy as np\n",
    "import matplotlib.pyplot as plt\n",
    "import seaborn as sns\n"
   ]
  },
  {
   "cell_type": "code",
   "execution_count": 8,
   "metadata": {},
   "outputs": [
    {
     "name": "stdout",
     "output_type": "stream",
     "text": [
      "      Año              Entidad        Población   Sexo         Edad  \\\n",
      "0  2020.0             NACIONAL  Población total  Total  0 a 17 años   \n",
      "1  2020.0       AGUASCALIENTES  Población total  Total  0 a 17 años   \n",
      "2  2020.0      BAJA CALIFORNIA  Población total  Total  0 a 17 años   \n",
      "3  2020.0  BAJA CALIFORNIA SUR  Población total  Total  0 a 17 años   \n",
      "4  2020.0             CAMPECHE  Población total  Total  0 a 17 años   \n",
      "\n",
      "     Cantidad      Totales  Porcentaje  Tasa  \n",
      "0  38247958.0  126014024.0    0.303521   NaN  \n",
      "1    463335.0    1425607.0    0.325009   NaN  \n",
      "2   1061893.0    3769020.0    0.281742   NaN  \n",
      "3    236629.0     798447.0    0.296362   NaN  \n",
      "4    286880.0     928363.0    0.309017   NaN  \n",
      "Año           float64\n",
      "Entidad        object\n",
      "Población      object\n",
      "Sexo           object\n",
      "Edad           object\n",
      "Cantidad      float64\n",
      "Totales       float64\n",
      "Porcentaje    float64\n",
      "Tasa          float64\n",
      "dtype: object\n"
     ]
    },
    {
     "name": "stderr",
     "output_type": "stream",
     "text": [
      "/var/folders/8v/p9jmdytd6y36kdsq55l4_cqw0000gn/T/ipykernel_99636/299854117.py:2: DtypeWarning: Columns (0) have mixed types. Specify dtype option on import or set low_memory=False.\n",
      "  df = pd.read_csv(\"data/icm-00-23.csv\", sep=\",\")\n"
     ]
    }
   ],
   "source": [
    "# Leer el archivo csv\n",
    "df = pd.read_csv(\"data/icm-00-23.csv\", sep=\",\")\n",
    "\n",
    "# Convertir columnas manualmente con control de errores\n",
    "df['Año'] = pd.to_numeric(df['Año'], errors='coerce')\n",
    "df['Cantidad'] = pd.to_numeric(df['Cantidad'], errors='coerce')\n",
    "df['Totales'] = pd.to_numeric(df['Totales'], errors='coerce')\n",
    "df['Porcentaje'] = pd.to_numeric(df['Porcentaje'], errors='coerce')\n",
    "df['Tasa'] = pd.to_numeric(df['Tasa'], errors='coerce')\n",
    "\n",
    "# Verificar los datos y los tipos de datos\n",
    "print(df.head())\n",
    "print(df.dtypes)\n"
   ]
  },
  {
   "cell_type": "code",
   "execution_count": 10,
   "metadata": {},
   "outputs": [
    {
     "data": {
      "text/plain": [
       "['Población total',\n",
       " 'Población afrodescendiente',\n",
       " 'Población hablante de lengua indígena',\n",
       " 'Población con discapacidad',\n",
       " 'Población sin afiliación a servicio de salud',\n",
       " 'Población casada o en unión libre',\n",
       " 'No disponen de energía eléctrica',\n",
       " 'No disponen de agua entubada',\n",
       " 'No disponen de drenaje',\n",
       " 'No disponen de Internet',\n",
       " 'No disponen de computadora',\n",
       " 'No disponen de televisor',\n",
       " 'Población que nació fuera de la entidad',\n",
       " 'Población que no asiste a la escuela',\n",
       " 'Población con hijos',\n",
       " 'Población con registro',\n",
       " 'Población en pobreza (hasta 2018)',\n",
       " 'Población en pobreza extrema (hasta 2018)',\n",
       " 'Inasistencia escolar',\n",
       " 'Rezago educativo (hasta 2018)',\n",
       " 'Carencia por acceso a servicios de salud (hasta 2018)',\n",
       " 'Carencia por acceso a la alimentación (hasta 2018)',\n",
       " 'Inseguridad alimentaria',\n",
       " 'Carencia por calidad y espacios de la vivienda (hasta 2018)',\n",
       " 'Carencia por servicios básicos de la vivienda (hasta 2018)',\n",
       " 'Tasa de mortalidad infantil',\n",
       " 'Abandono escolar (primaria)',\n",
       " 'Abandono escolar (secundaria)',\n",
       " 'Abandono escolar (media superior)',\n",
       " 'Defunciones por suicidio',\n",
       " 'Defunciones por agresiones',\n",
       " 'Trabajo infantil',\n",
       " 'Repatriaciones desde EUA',\n",
       " 'Víctimas de feminicidio',\n",
       " 'Índice de calidad de leyes',\n",
       " 'Personas desaparecidas y no localizadas',\n",
       " 'Población ocupada',\n",
       " 'Población en pobreza',\n",
       " 'Población en pobreza extrema',\n",
       " 'Rezago educativo',\n",
       " 'Carencia por acceso a servicios de salud',\n",
       " 'Carencia por acceso a la seguridad social',\n",
       " 'Carencia por calidad y espacios de la vivienda',\n",
       " 'Carencia por servicios básicos de la vivienda',\n",
       " 'Carencia por acceso a la alimentación nutritiva y de calidad',\n",
       " 'Población afrodescendiente con discapacidad',\n",
       " 'Población afrodescendiente sin afiliación a servicio de salud',\n",
       " 'Población afrodescendiente que no asiste a la escuela',\n",
       " 'Población afrodescendiente casada o en unión libre',\n",
       " 'Población afrodescendiente con hijos',\n",
       " 'Población indígena con discapacidad',\n",
       " 'Población indígena sin afiliación a servicio de salud',\n",
       " 'Población indígena que no asiste a la escuela',\n",
       " 'Población indígena casada o en unión libre',\n",
       " 'Población indígena con hijos',\n",
       " 'Población no indígena en pobreza',\n",
       " 'Población indígena en pobreza',\n",
       " 'Población no indígena en pobreza extrema',\n",
       " 'Población indígena en pobreza extrema',\n",
       " 'Carencia por acceso a la alimentación nutritiva y de calidad (no indígena)',\n",
       " 'Carencia por acceso a la alimentación nutritiva y de calidad (indígena)',\n",
       " 'Rezago educativo (no indígena)',\n",
       " 'Rezago educativo (indígena)',\n",
       " 'Carencia por acceso a servicios de salud (no indígena)',\n",
       " 'Carencia por acceso a servicios de salud (indígena)',\n",
       " 'Carencia por acceso a la seguridad social (no indígena)',\n",
       " 'Carencia por acceso a la seguridad social (indígena)',\n",
       " 'Carencia por calidad y espacios de la vivienda (no indígena)',\n",
       " 'Carencia por calidad y espacios de la vivienda (indígena)',\n",
       " 'Carencia por servicios básicos de la vivienda (no indígena)',\n",
       " 'Carencia por servicios básicos de la vivienda (indígena)',\n",
       " 'Población con condición mental',\n",
       " 'Población afrodescendiente con condición mental',\n",
       " 'Población con condición mental sin afiliación a servicio de salud',\n",
       " 'Población indígena con condición mental',\n",
       " 'Población con condición mental que no asiste a la escuela',\n",
       " 'Población con condición mental casada o en unión libre',\n",
       " 'Población con condición mental con hijos',\n",
       " 'Nacimientos de madres']"
      ]
     },
     "execution_count": 10,
     "metadata": {},
     "output_type": "execute_result"
    }
   ],
   "source": [
    "df[\"Población\"].unique().tolist()\n"
   ]
  }
 ],
 "metadata": {
  "kernelspec": {
   "display_name": "base",
   "language": "python",
   "name": "python3"
  },
  "language_info": {
   "codemirror_mode": {
    "name": "ipython",
    "version": 3
   },
   "file_extension": ".py",
   "mimetype": "text/x-python",
   "name": "python",
   "nbconvert_exporter": "python",
   "pygments_lexer": "ipython3",
   "version": "3.11.4"
  }
 },
 "nbformat": 4,
 "nbformat_minor": 2
}
